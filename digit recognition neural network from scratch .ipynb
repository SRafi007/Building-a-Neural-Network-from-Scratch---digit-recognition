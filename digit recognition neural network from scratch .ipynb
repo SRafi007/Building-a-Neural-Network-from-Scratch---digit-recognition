{
 "cells": [
  {
   "cell_type": "code",
   "execution_count": 102,
   "id": "6d4ac35f-711d-44e3-a86f-6752d4df3594",
   "metadata": {},
   "outputs": [],
   "source": [
    "import numpy as np\n",
    "import pandas as pd \n",
    "import matplotlib.pyplot as plt"
   ]
  },
  {
   "cell_type": "code",
   "execution_count": 103,
   "id": "fb93874b-7276-4d53-8f6e-dd7a56d405a8",
   "metadata": {},
   "outputs": [],
   "source": [
    "ds=pd.read_csv('./train.csv')\n",
    "test_ds=pd.read_csv('./test.csv')"
   ]
  },
  {
   "cell_type": "code",
   "execution_count": 104,
   "id": "c8a7fce6-bc7e-4139-8e27-6b9a03864071",
   "metadata": {},
   "outputs": [
    {
     "data": {
      "text/html": [
       "<div>\n",
       "<style scoped>\n",
       "    .dataframe tbody tr th:only-of-type {\n",
       "        vertical-align: middle;\n",
       "    }\n",
       "\n",
       "    .dataframe tbody tr th {\n",
       "        vertical-align: top;\n",
       "    }\n",
       "\n",
       "    .dataframe thead th {\n",
       "        text-align: right;\n",
       "    }\n",
       "</style>\n",
       "<table border=\"1\" class=\"dataframe\">\n",
       "  <thead>\n",
       "    <tr style=\"text-align: right;\">\n",
       "      <th></th>\n",
       "      <th>label</th>\n",
       "      <th>pixel0</th>\n",
       "      <th>pixel1</th>\n",
       "      <th>pixel2</th>\n",
       "      <th>pixel3</th>\n",
       "      <th>pixel4</th>\n",
       "      <th>pixel5</th>\n",
       "      <th>pixel6</th>\n",
       "      <th>pixel7</th>\n",
       "      <th>pixel8</th>\n",
       "      <th>...</th>\n",
       "      <th>pixel774</th>\n",
       "      <th>pixel775</th>\n",
       "      <th>pixel776</th>\n",
       "      <th>pixel777</th>\n",
       "      <th>pixel778</th>\n",
       "      <th>pixel779</th>\n",
       "      <th>pixel780</th>\n",
       "      <th>pixel781</th>\n",
       "      <th>pixel782</th>\n",
       "      <th>pixel783</th>\n",
       "    </tr>\n",
       "  </thead>\n",
       "  <tbody>\n",
       "    <tr>\n",
       "      <th>0</th>\n",
       "      <td>1</td>\n",
       "      <td>0</td>\n",
       "      <td>0</td>\n",
       "      <td>0</td>\n",
       "      <td>0</td>\n",
       "      <td>0</td>\n",
       "      <td>0</td>\n",
       "      <td>0</td>\n",
       "      <td>0</td>\n",
       "      <td>0</td>\n",
       "      <td>...</td>\n",
       "      <td>0</td>\n",
       "      <td>0</td>\n",
       "      <td>0</td>\n",
       "      <td>0</td>\n",
       "      <td>0</td>\n",
       "      <td>0</td>\n",
       "      <td>0</td>\n",
       "      <td>0</td>\n",
       "      <td>0</td>\n",
       "      <td>0</td>\n",
       "    </tr>\n",
       "    <tr>\n",
       "      <th>1</th>\n",
       "      <td>0</td>\n",
       "      <td>0</td>\n",
       "      <td>0</td>\n",
       "      <td>0</td>\n",
       "      <td>0</td>\n",
       "      <td>0</td>\n",
       "      <td>0</td>\n",
       "      <td>0</td>\n",
       "      <td>0</td>\n",
       "      <td>0</td>\n",
       "      <td>...</td>\n",
       "      <td>0</td>\n",
       "      <td>0</td>\n",
       "      <td>0</td>\n",
       "      <td>0</td>\n",
       "      <td>0</td>\n",
       "      <td>0</td>\n",
       "      <td>0</td>\n",
       "      <td>0</td>\n",
       "      <td>0</td>\n",
       "      <td>0</td>\n",
       "    </tr>\n",
       "    <tr>\n",
       "      <th>2</th>\n",
       "      <td>1</td>\n",
       "      <td>0</td>\n",
       "      <td>0</td>\n",
       "      <td>0</td>\n",
       "      <td>0</td>\n",
       "      <td>0</td>\n",
       "      <td>0</td>\n",
       "      <td>0</td>\n",
       "      <td>0</td>\n",
       "      <td>0</td>\n",
       "      <td>...</td>\n",
       "      <td>0</td>\n",
       "      <td>0</td>\n",
       "      <td>0</td>\n",
       "      <td>0</td>\n",
       "      <td>0</td>\n",
       "      <td>0</td>\n",
       "      <td>0</td>\n",
       "      <td>0</td>\n",
       "      <td>0</td>\n",
       "      <td>0</td>\n",
       "    </tr>\n",
       "    <tr>\n",
       "      <th>3</th>\n",
       "      <td>4</td>\n",
       "      <td>0</td>\n",
       "      <td>0</td>\n",
       "      <td>0</td>\n",
       "      <td>0</td>\n",
       "      <td>0</td>\n",
       "      <td>0</td>\n",
       "      <td>0</td>\n",
       "      <td>0</td>\n",
       "      <td>0</td>\n",
       "      <td>...</td>\n",
       "      <td>0</td>\n",
       "      <td>0</td>\n",
       "      <td>0</td>\n",
       "      <td>0</td>\n",
       "      <td>0</td>\n",
       "      <td>0</td>\n",
       "      <td>0</td>\n",
       "      <td>0</td>\n",
       "      <td>0</td>\n",
       "      <td>0</td>\n",
       "    </tr>\n",
       "    <tr>\n",
       "      <th>4</th>\n",
       "      <td>0</td>\n",
       "      <td>0</td>\n",
       "      <td>0</td>\n",
       "      <td>0</td>\n",
       "      <td>0</td>\n",
       "      <td>0</td>\n",
       "      <td>0</td>\n",
       "      <td>0</td>\n",
       "      <td>0</td>\n",
       "      <td>0</td>\n",
       "      <td>...</td>\n",
       "      <td>0</td>\n",
       "      <td>0</td>\n",
       "      <td>0</td>\n",
       "      <td>0</td>\n",
       "      <td>0</td>\n",
       "      <td>0</td>\n",
       "      <td>0</td>\n",
       "      <td>0</td>\n",
       "      <td>0</td>\n",
       "      <td>0</td>\n",
       "    </tr>\n",
       "  </tbody>\n",
       "</table>\n",
       "<p>5 rows × 785 columns</p>\n",
       "</div>"
      ],
      "text/plain": [
       "   label  pixel0  pixel1  pixel2  pixel3  pixel4  pixel5  pixel6  pixel7  \\\n",
       "0      1       0       0       0       0       0       0       0       0   \n",
       "1      0       0       0       0       0       0       0       0       0   \n",
       "2      1       0       0       0       0       0       0       0       0   \n",
       "3      4       0       0       0       0       0       0       0       0   \n",
       "4      0       0       0       0       0       0       0       0       0   \n",
       "\n",
       "   pixel8  ...  pixel774  pixel775  pixel776  pixel777  pixel778  pixel779  \\\n",
       "0       0  ...         0         0         0         0         0         0   \n",
       "1       0  ...         0         0         0         0         0         0   \n",
       "2       0  ...         0         0         0         0         0         0   \n",
       "3       0  ...         0         0         0         0         0         0   \n",
       "4       0  ...         0         0         0         0         0         0   \n",
       "\n",
       "   pixel780  pixel781  pixel782  pixel783  \n",
       "0         0         0         0         0  \n",
       "1         0         0         0         0  \n",
       "2         0         0         0         0  \n",
       "3         0         0         0         0  \n",
       "4         0         0         0         0  \n",
       "\n",
       "[5 rows x 785 columns]"
      ]
     },
     "execution_count": 104,
     "metadata": {},
     "output_type": "execute_result"
    }
   ],
   "source": [
    "ds.head()"
   ]
  },
  {
   "cell_type": "code",
   "execution_count": 105,
   "id": "40d6bc2d-a4f3-41fa-86e4-9dde9039085a",
   "metadata": {},
   "outputs": [],
   "source": [
    "ds=np.array(ds)\n"
   ]
  },
  {
   "cell_type": "code",
   "execution_count": 106,
   "id": "91360eb2-0a24-4a7a-b0f4-d0a96a7dc5e6",
   "metadata": {},
   "outputs": [],
   "source": [
    "m, n= ds.shape\n"
   ]
  },
  {
   "cell_type": "code",
   "execution_count": 107,
   "id": "4d3b1762-845a-4f59-ad02-5c62e5418057",
   "metadata": {},
   "outputs": [
    {
     "data": {
      "text/plain": [
       "(42000, 785)"
      ]
     },
     "execution_count": 107,
     "metadata": {},
     "output_type": "execute_result"
    }
   ],
   "source": [
    "np.random.shuffle(ds)\n",
    "ds.shape"
   ]
  },
  {
   "cell_type": "markdown",
   "id": "917a7375-e946-40bd-a1c8-37d085a0d8dd",
   "metadata": {},
   "source": [
    "## *now spliting data into test and tarin*"
   ]
  },
  {
   "cell_type": "code",
   "execution_count": 108,
   "id": "b9360099-96b5-43bb-ad4c-0688b94d45ca",
   "metadata": {},
   "outputs": [],
   "source": [
    "test_data=ds[0:1000].T\n",
    "y_test=test_data[0]\n",
    "X_test=test_data[1:n]\n"
   ]
  },
  {
   "cell_type": "code",
   "execution_count": 109,
   "id": "901720f1-0dc6-40a5-888d-c7dc85ce2bc9",
   "metadata": {},
   "outputs": [
    {
     "data": {
      "text/plain": [
       "(1000,)"
      ]
     },
     "execution_count": 109,
     "metadata": {},
     "output_type": "execute_result"
    }
   ],
   "source": [
    "y_test.shape"
   ]
  },
  {
   "cell_type": "code",
   "execution_count": 110,
   "id": "3c9050e7-093f-4ae3-a0d2-abe6190e480a",
   "metadata": {},
   "outputs": [
    {
     "data": {
      "text/plain": [
       "array([7, 7, 2, 0, 5, 5, 9, 5, 1, 4, 6, 9, 9, 4, 9, 1, 9, 1, 9, 2, 8, 6,\n",
       "       2, 8, 6, 6, 0, 1, 0, 3, 3, 1, 3, 1, 8, 1, 2, 5, 1, 9, 5, 0, 3, 0,\n",
       "       5, 7, 4, 5, 8, 0, 0, 1, 4, 1, 1, 4, 4, 8, 9, 3, 3, 7, 8, 6, 4, 6,\n",
       "       6, 3, 3, 2, 1, 4, 6, 4, 5, 4, 5, 3, 6, 9, 2, 1, 5, 1, 6, 8, 8, 5,\n",
       "       9, 6, 2, 6, 0, 1, 1, 2, 9, 9, 4, 8, 9, 4, 4, 7, 6, 5, 3, 2, 8, 1,\n",
       "       7, 4, 1, 8, 6, 2, 7, 3, 2, 8, 5, 5, 5, 5, 6, 1, 9, 1, 8, 1, 3, 4,\n",
       "       6, 1, 2, 6, 9, 8, 7, 0, 1, 5, 1, 3, 6, 4, 3, 4, 4, 6, 7, 8, 8, 8,\n",
       "       9, 4, 4, 6, 1, 7, 3, 4, 8, 4, 6, 2, 7, 9, 4, 1, 8, 6, 3, 8, 7, 7,\n",
       "       5, 7, 6, 6, 4, 4, 6, 9, 6, 1, 0, 6, 2, 4, 8, 4, 0, 4, 1, 3, 8, 6,\n",
       "       0, 5, 3, 4, 7, 7, 2, 0, 6, 7, 8, 8, 6, 7, 4, 7, 4, 4, 6, 0, 6, 4,\n",
       "       0, 1, 3, 3, 4, 6, 3, 5, 8, 6, 3, 6, 1, 1, 8, 5, 9, 6, 4, 0, 4, 7,\n",
       "       9, 4, 9, 6, 1, 3, 7, 5, 0, 3, 8, 1, 2, 3, 1, 4, 2, 0, 4, 2, 3, 3,\n",
       "       9, 3, 2, 3, 5, 5, 8, 4, 5, 3, 1, 8, 4, 1, 5, 5, 1, 2, 4, 1, 2, 1,\n",
       "       1, 9, 5, 2, 5, 8, 0, 3, 5, 6, 5, 3, 9, 8, 0, 6, 7, 8, 2, 7, 6, 5,\n",
       "       1, 7, 5, 5, 6, 4, 7, 0, 6, 4, 6, 6, 7, 5, 9, 3, 6, 3, 4, 7, 0, 5,\n",
       "       1, 5, 2, 2, 1, 6, 9, 9, 8, 7, 9, 7, 7, 4, 4, 0, 2, 0, 5, 1, 8, 6,\n",
       "       1, 0, 9, 7, 9, 6, 6, 9, 7, 5, 2, 5, 3, 2, 6, 8, 0, 9, 7, 7, 9, 2,\n",
       "       1, 8, 1, 0, 5, 0, 9, 8, 9, 8, 1, 4, 8, 1, 1, 7, 4, 3, 4, 9, 1, 4,\n",
       "       0, 1, 5, 3, 8, 8, 4, 1, 4, 0, 3, 0, 9, 3, 8, 1, 3, 6, 4, 6, 3, 0,\n",
       "       6, 0, 0, 5, 8, 3, 0, 8, 9, 4, 5, 8, 3, 1, 3, 6, 9, 6, 4, 1, 7, 6,\n",
       "       8, 3, 6, 6, 8, 0, 9, 6, 9, 4, 8, 2, 4, 4, 3, 5, 3, 0, 1, 3, 6, 7,\n",
       "       2, 5, 7, 2, 7, 3, 2, 3, 4, 8, 2, 4, 7, 2, 3, 6, 1, 0, 3, 2, 8, 8,\n",
       "       4, 7, 1, 2, 7, 4, 5, 7, 1, 8, 4, 3, 7, 3, 0, 1, 8, 4, 6, 1, 1, 9,\n",
       "       0, 1, 3, 8, 9, 8, 8, 7, 4, 3, 9, 2, 3, 3, 1, 5, 7, 9, 0, 2, 4, 3,\n",
       "       9, 0, 9, 3, 8, 0, 5, 5, 7, 8, 6, 8, 0, 2, 0, 4, 1, 1, 0, 1, 8, 7,\n",
       "       6, 5, 2, 7, 5, 8, 7, 6, 8, 4, 6, 1, 1, 8, 4, 5, 3, 4, 6, 3, 1, 9,\n",
       "       8, 3, 2, 8, 3, 8, 7, 1, 5, 1, 4, 7, 0, 7, 5, 5, 4, 7, 6, 7, 0, 4,\n",
       "       0, 7, 1, 8, 2, 0, 8, 6, 5, 4, 3, 8, 9, 6, 8, 1, 7, 8, 2, 9, 4, 2,\n",
       "       4, 1, 2, 3, 2, 1, 1, 8, 5, 4, 1, 8, 9, 6, 0, 3, 1, 2, 9, 8, 7, 2,\n",
       "       6, 5, 6, 3, 6, 2, 8, 9, 4, 7, 0, 9, 9, 3, 2, 0, 7, 7, 6, 0, 6, 5,\n",
       "       3, 0, 4, 3, 2, 8, 3, 1, 3, 6, 2, 0, 8, 2, 6, 0, 4, 1, 3, 3, 7, 5,\n",
       "       3, 4, 5, 4, 0, 5, 3, 6, 7, 7, 0, 3, 8, 2, 9, 3, 5, 3, 7, 0, 0, 0,\n",
       "       5, 4, 9, 5, 7, 3, 4, 9, 4, 9, 7, 9, 9, 2, 0, 8, 0, 1, 9, 9, 7, 1,\n",
       "       0, 4, 1, 2, 2, 1, 2, 0, 8, 6, 7, 3, 1, 9, 7, 5, 0, 0, 3, 0, 2, 5,\n",
       "       7, 0, 6, 6, 7, 7, 7, 7, 9, 9, 5, 0, 6, 7, 8, 0, 7, 2, 6, 9, 5, 3,\n",
       "       2, 3, 3, 0, 0, 7, 5, 8, 6, 4, 9, 3, 3, 0, 2, 4, 0, 2, 7, 0, 5, 6,\n",
       "       9, 9, 0, 0, 0, 1, 9, 3, 4, 6, 8, 1, 9, 3, 5, 5, 9, 4, 4, 5, 0, 3,\n",
       "       3, 7, 3, 5, 2, 7, 0, 3, 1, 1, 2, 9, 1, 7, 2, 5, 6, 8, 4, 3, 5, 7,\n",
       "       1, 3, 9, 4, 3, 9, 4, 7, 2, 7, 6, 0, 2, 4, 1, 3, 0, 0, 9, 0, 7, 7,\n",
       "       3, 9, 4, 7, 2, 5, 3, 2, 1, 5, 0, 4, 7, 5, 4, 8, 6, 3, 4, 1, 8, 4,\n",
       "       3, 6, 2, 6, 0, 7, 7, 2, 2, 9, 8, 4, 0, 5, 5, 4, 7, 3, 9, 7, 0, 3,\n",
       "       8, 5, 1, 4, 5, 8, 9, 1, 5, 1, 4, 4, 7, 4, 3, 9, 0, 6, 9, 6, 4, 6,\n",
       "       3, 8, 9, 2, 9, 7, 9, 2, 1, 4, 3, 6, 1, 9, 1, 4, 1, 2, 9, 5, 9, 3,\n",
       "       5, 1, 6, 6, 4, 9, 7, 1, 1, 6, 6, 2, 8, 4, 5, 6, 3, 0, 5, 0, 3, 2,\n",
       "       9, 7, 7, 1, 7, 6, 6, 6, 2, 5, 4, 9, 7, 5, 5, 1, 3, 6, 7, 2, 9, 3,\n",
       "       3, 9, 4, 6, 8, 5, 1, 2, 2, 4], dtype=int64)"
      ]
     },
     "execution_count": 110,
     "metadata": {},
     "output_type": "execute_result"
    }
   ],
   "source": [
    "y_test"
   ]
  },
  {
   "cell_type": "code",
   "execution_count": 111,
   "id": "2b819384-898b-478f-a3b9-7ea2792d9991",
   "metadata": {},
   "outputs": [
    {
     "data": {
      "text/plain": [
       "(41000,)"
      ]
     },
     "execution_count": 111,
     "metadata": {},
     "output_type": "execute_result"
    }
   ],
   "source": [
    "train_data=ds[1000:m].T\n",
    "y_train=train_data[0]\n",
    "X_train=train_data[1:n]\n",
    "y_train.shape\n"
   ]
  },
  {
   "cell_type": "code",
   "execution_count": 112,
   "id": "94fd6755-1dc1-4836-aae1-048037e0836f",
   "metadata": {},
   "outputs": [
    {
     "data": {
      "text/plain": [
       "(784,)"
      ]
     },
     "execution_count": 112,
     "metadata": {},
     "output_type": "execute_result"
    }
   ],
   "source": [
    "X_train[:,0].shape"
   ]
  },
  {
   "cell_type": "code",
   "execution_count": 113,
   "id": "e5cc3511-cc83-44e7-b532-9deba2ef152d",
   "metadata": {},
   "outputs": [],
   "source": [
    "def init_params():\n",
    "    w1=np.random.randn(10,784)-0.5\n",
    "    b1=np.random.randn(10,1)-0.5\n",
    "    w2=np.random.randn(10,10)-0.5\n",
    "    b2=np.random.randn(10,1)-0.5\n",
    "    return w1, b1, w2, b2"
   ]
  },
  {
   "cell_type": "code",
   "execution_count": 114,
   "id": "e74e6bfa-1bc8-4a1a-92e5-c74e85b7d1e1",
   "metadata": {},
   "outputs": [],
   "source": [
    "def RelU(Z):\n",
    "    return np.maximum(0,Z)"
   ]
  },
  {
   "cell_type": "code",
   "execution_count": 115,
   "id": "f0f800dd-bacc-494c-a5be-46766b4486ac",
   "metadata": {},
   "outputs": [],
   "source": [
    "def softmax(Z):\n",
    "    A= np.exp(Z)/ np.sum(exp(Z))\n",
    "    return A"
   ]
  },
  {
   "cell_type": "code",
   "execution_count": 116,
   "id": "173ade60-0c1c-4507-be68-a7b44e5148d7",
   "metadata": {},
   "outputs": [],
   "source": [
    "def forward_prop(w1,b1,w2,b2, X):\n",
    "    Z1=w1.dot(X)+b1\n",
    "    A1=RelU(Z1)\n",
    "    Z2=w2.dot(A1)+b2\n",
    "    A2=softmax(A1)\n",
    "    return Z1,A1,Z2,A2"
   ]
  },
  {
   "cell_type": "code",
   "execution_count": 117,
   "id": "2530c992-302c-47a1-9d57-a267f4ef7dcc",
   "metadata": {},
   "outputs": [],
   "source": [
    "def one_hot(Y):\n",
    "    one_hot_Y=np.zeros((Y.size,Y.max()+1))\n",
    "    one_hot_Y[np.arange(Y.size),Y]=1\n",
    "    one_hot_Y=one_hot_Y.T"
   ]
  },
  {
   "cell_type": "code",
   "execution_count": 118,
   "id": "0173273f-d2b6-435b-9bda-7b7d7fa903c5",
   "metadata": {},
   "outputs": [],
   "source": [
    "def back_prop( Z1,A1,Z2,A2,w2,Y):\n",
    "    one_hot_Y=one_hot(Y)\n",
    "    dZ2=A2 - one_hot_Y\n",
    "    dw2=1 / m*dZ2.dot(A1.T)\n",
    "    db2= 1 / m * np.sum(dZ2, 2)\n",
    "    dZ1=w2.T.dot(dZ2) * deriv_RelU(Z1)\n",
    "    dw1= 1 / m *dZ1.dot(X.T)\n",
    "    db1 = 1 / m * np.sum(dZ1,2)\n",
    "    return dw1, db1, dw2, db2"
   ]
  },
  {
   "cell_type": "code",
   "execution_count": 119,
   "id": "9b69ec34-a958-48ea-8241-5987afba7901",
   "metadata": {},
   "outputs": [],
   "source": [
    "def update_params(w1,b1,w2,b2,dw1,db1,dw2,db2,alpha):\n",
    "    w1=w1-alpha*dw1\n",
    "    w2=w2-alpha*dw2\n",
    "    b1=b1-alpha*db1\n",
    "    b2=b2-alpha*db2\n",
    "    return w1,w2,b1,b2"
   ]
  },
  {
   "cell_type": "code",
   "execution_count": 120,
   "id": "1f08f3b8-1673-4123-b93a-3fd619ce33f4",
   "metadata": {},
   "outputs": [],
   "source": [
    "def loss(X,Y,A2):\n",
    "    m=Y.size\n",
    "    log_likelihood=-np.lop(A2[Y.range(m)])\n",
    "    loss=1/m*np.sum(log_likelihood)"
   ]
  },
  {
   "cell_type": "code",
   "execution_count": 121,
   "id": "0a53daa2-99fe-4fd8-9a9b-513c77b02172",
   "metadata": {},
   "outputs": [],
   "source": [
    "def get_predictions(A2):\n",
    "    return np.argmax(A2,0)"
   ]
  },
  {
   "cell_type": "code",
   "execution_count": null,
   "id": "2ea7a0ff-b79e-4f41-a54a-27737103f2ee",
   "metadata": {},
   "outputs": [],
   "source": [
    "def get_accuracy(predictions,Y):\n",
    "    print(predictions,Y)\n",
    "    return np.sum(predictions ==Y)/Y.size"
   ]
  },
  {
   "cell_type": "code",
   "execution_count": null,
   "id": "d94bee57-6b52-47c5-ba0c-09c8df16b569",
   "metadata": {},
   "outputs": [],
   "source": [
    "def gradient_descent(X,Y, iterations, alpha):\n",
    "    w1,b1,w2,b2=init_params()\n",
    "    for i in range(iterations):\n",
    "        Z1,A1,w2,b2=forward_prop(w1,b1,w2,b2,X)\n",
    "        dw1,db1,dw2,db2= back_prop(Z1,A1,Z2,A2,w1,w2,X,Y)\n",
    "        w1,b1,w2,b2=update_params(w1,b1,w2,b2,dw1,db1,dw2,db2,alpha)\n",
    "\n",
    "        if i % 50==0:\n",
    "            print(\"iterations:\".i)\n",
    "            predictions=get_predictions(A2)\n",
    "            print(get_accuracy(predictions,Y))\n",
    "            if i % 10==0:\n",
    "                print(\"iterations:\",i)\n",
    "                print(\"accuracy:\",get_accuracy(get_predictions(A2),Y))\n",
    "            \n",
    "    return w1,b1,w2,b2\n",
    "            "
   ]
  },
  {
   "cell_type": "code",
   "execution_count": null,
   "id": "7dcbbd6a-ad0c-44bc-b2cd-c4634200405e",
   "metadata": {},
   "outputs": [],
   "source": [
    "w1,b1,w2,b2=gradient_descent(X_train,y_train,500,0.1)"
   ]
  },
  {
   "cell_type": "code",
   "execution_count": null,
   "id": "d5744d5d-bc63-4fac-835a-979057d89ff9",
   "metadata": {},
   "outputs": [],
   "source": []
  }
 ],
 "metadata": {
  "kernelspec": {
   "display_name": "venv1",
   "language": "python",
   "name": "venv1"
  },
  "language_info": {
   "codemirror_mode": {
    "name": "ipython",
    "version": 3
   },
   "file_extension": ".py",
   "mimetype": "text/x-python",
   "name": "python",
   "nbconvert_exporter": "python",
   "pygments_lexer": "ipython3",
   "version": "3.12.1"
  }
 },
 "nbformat": 4,
 "nbformat_minor": 5
}
