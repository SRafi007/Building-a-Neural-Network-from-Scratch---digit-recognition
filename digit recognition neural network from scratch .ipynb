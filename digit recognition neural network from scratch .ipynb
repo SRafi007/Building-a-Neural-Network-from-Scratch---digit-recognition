{
 "cells": [
  {
   "cell_type": "code",
   "execution_count": 57,
   "id": "6d4ac35f-711d-44e3-a86f-6752d4df3594",
   "metadata": {},
   "outputs": [],
   "source": [
    "import numpy as np\n",
    "import pandas as pd \n",
    "import matplotlib.pyplot as plt"
   ]
  },
  {
   "cell_type": "code",
   "execution_count": 58,
   "id": "fb93874b-7276-4d53-8f6e-dd7a56d405a8",
   "metadata": {},
   "outputs": [],
   "source": [
    "ds=pd.read_csv('./train.csv')\n",
    "test_ds=pd.read_csv('./test.csv')"
   ]
  },
  {
   "cell_type": "code",
   "execution_count": 59,
   "id": "c8a7fce6-bc7e-4139-8e27-6b9a03864071",
   "metadata": {},
   "outputs": [
    {
     "data": {
      "text/html": [
       "<div>\n",
       "<style scoped>\n",
       "    .dataframe tbody tr th:only-of-type {\n",
       "        vertical-align: middle;\n",
       "    }\n",
       "\n",
       "    .dataframe tbody tr th {\n",
       "        vertical-align: top;\n",
       "    }\n",
       "\n",
       "    .dataframe thead th {\n",
       "        text-align: right;\n",
       "    }\n",
       "</style>\n",
       "<table border=\"1\" class=\"dataframe\">\n",
       "  <thead>\n",
       "    <tr style=\"text-align: right;\">\n",
       "      <th></th>\n",
       "      <th>label</th>\n",
       "      <th>pixel0</th>\n",
       "      <th>pixel1</th>\n",
       "      <th>pixel2</th>\n",
       "      <th>pixel3</th>\n",
       "      <th>pixel4</th>\n",
       "      <th>pixel5</th>\n",
       "      <th>pixel6</th>\n",
       "      <th>pixel7</th>\n",
       "      <th>pixel8</th>\n",
       "      <th>...</th>\n",
       "      <th>pixel774</th>\n",
       "      <th>pixel775</th>\n",
       "      <th>pixel776</th>\n",
       "      <th>pixel777</th>\n",
       "      <th>pixel778</th>\n",
       "      <th>pixel779</th>\n",
       "      <th>pixel780</th>\n",
       "      <th>pixel781</th>\n",
       "      <th>pixel782</th>\n",
       "      <th>pixel783</th>\n",
       "    </tr>\n",
       "  </thead>\n",
       "  <tbody>\n",
       "    <tr>\n",
       "      <th>0</th>\n",
       "      <td>1</td>\n",
       "      <td>0</td>\n",
       "      <td>0</td>\n",
       "      <td>0</td>\n",
       "      <td>0</td>\n",
       "      <td>0</td>\n",
       "      <td>0</td>\n",
       "      <td>0</td>\n",
       "      <td>0</td>\n",
       "      <td>0</td>\n",
       "      <td>...</td>\n",
       "      <td>0</td>\n",
       "      <td>0</td>\n",
       "      <td>0</td>\n",
       "      <td>0</td>\n",
       "      <td>0</td>\n",
       "      <td>0</td>\n",
       "      <td>0</td>\n",
       "      <td>0</td>\n",
       "      <td>0</td>\n",
       "      <td>0</td>\n",
       "    </tr>\n",
       "    <tr>\n",
       "      <th>1</th>\n",
       "      <td>0</td>\n",
       "      <td>0</td>\n",
       "      <td>0</td>\n",
       "      <td>0</td>\n",
       "      <td>0</td>\n",
       "      <td>0</td>\n",
       "      <td>0</td>\n",
       "      <td>0</td>\n",
       "      <td>0</td>\n",
       "      <td>0</td>\n",
       "      <td>...</td>\n",
       "      <td>0</td>\n",
       "      <td>0</td>\n",
       "      <td>0</td>\n",
       "      <td>0</td>\n",
       "      <td>0</td>\n",
       "      <td>0</td>\n",
       "      <td>0</td>\n",
       "      <td>0</td>\n",
       "      <td>0</td>\n",
       "      <td>0</td>\n",
       "    </tr>\n",
       "    <tr>\n",
       "      <th>2</th>\n",
       "      <td>1</td>\n",
       "      <td>0</td>\n",
       "      <td>0</td>\n",
       "      <td>0</td>\n",
       "      <td>0</td>\n",
       "      <td>0</td>\n",
       "      <td>0</td>\n",
       "      <td>0</td>\n",
       "      <td>0</td>\n",
       "      <td>0</td>\n",
       "      <td>...</td>\n",
       "      <td>0</td>\n",
       "      <td>0</td>\n",
       "      <td>0</td>\n",
       "      <td>0</td>\n",
       "      <td>0</td>\n",
       "      <td>0</td>\n",
       "      <td>0</td>\n",
       "      <td>0</td>\n",
       "      <td>0</td>\n",
       "      <td>0</td>\n",
       "    </tr>\n",
       "    <tr>\n",
       "      <th>3</th>\n",
       "      <td>4</td>\n",
       "      <td>0</td>\n",
       "      <td>0</td>\n",
       "      <td>0</td>\n",
       "      <td>0</td>\n",
       "      <td>0</td>\n",
       "      <td>0</td>\n",
       "      <td>0</td>\n",
       "      <td>0</td>\n",
       "      <td>0</td>\n",
       "      <td>...</td>\n",
       "      <td>0</td>\n",
       "      <td>0</td>\n",
       "      <td>0</td>\n",
       "      <td>0</td>\n",
       "      <td>0</td>\n",
       "      <td>0</td>\n",
       "      <td>0</td>\n",
       "      <td>0</td>\n",
       "      <td>0</td>\n",
       "      <td>0</td>\n",
       "    </tr>\n",
       "    <tr>\n",
       "      <th>4</th>\n",
       "      <td>0</td>\n",
       "      <td>0</td>\n",
       "      <td>0</td>\n",
       "      <td>0</td>\n",
       "      <td>0</td>\n",
       "      <td>0</td>\n",
       "      <td>0</td>\n",
       "      <td>0</td>\n",
       "      <td>0</td>\n",
       "      <td>0</td>\n",
       "      <td>...</td>\n",
       "      <td>0</td>\n",
       "      <td>0</td>\n",
       "      <td>0</td>\n",
       "      <td>0</td>\n",
       "      <td>0</td>\n",
       "      <td>0</td>\n",
       "      <td>0</td>\n",
       "      <td>0</td>\n",
       "      <td>0</td>\n",
       "      <td>0</td>\n",
       "    </tr>\n",
       "  </tbody>\n",
       "</table>\n",
       "<p>5 rows × 785 columns</p>\n",
       "</div>"
      ],
      "text/plain": [
       "   label  pixel0  pixel1  pixel2  pixel3  pixel4  pixel5  pixel6  pixel7  \\\n",
       "0      1       0       0       0       0       0       0       0       0   \n",
       "1      0       0       0       0       0       0       0       0       0   \n",
       "2      1       0       0       0       0       0       0       0       0   \n",
       "3      4       0       0       0       0       0       0       0       0   \n",
       "4      0       0       0       0       0       0       0       0       0   \n",
       "\n",
       "   pixel8  ...  pixel774  pixel775  pixel776  pixel777  pixel778  pixel779  \\\n",
       "0       0  ...         0         0         0         0         0         0   \n",
       "1       0  ...         0         0         0         0         0         0   \n",
       "2       0  ...         0         0         0         0         0         0   \n",
       "3       0  ...         0         0         0         0         0         0   \n",
       "4       0  ...         0         0         0         0         0         0   \n",
       "\n",
       "   pixel780  pixel781  pixel782  pixel783  \n",
       "0         0         0         0         0  \n",
       "1         0         0         0         0  \n",
       "2         0         0         0         0  \n",
       "3         0         0         0         0  \n",
       "4         0         0         0         0  \n",
       "\n",
       "[5 rows x 785 columns]"
      ]
     },
     "execution_count": 59,
     "metadata": {},
     "output_type": "execute_result"
    }
   ],
   "source": [
    "ds.head()"
   ]
  },
  {
   "cell_type": "code",
   "execution_count": 60,
   "id": "40d6bc2d-a4f3-41fa-86e4-9dde9039085a",
   "metadata": {},
   "outputs": [],
   "source": [
    "ds=np.array(ds)\n"
   ]
  },
  {
   "cell_type": "code",
   "execution_count": 61,
   "id": "91360eb2-0a24-4a7a-b0f4-d0a96a7dc5e6",
   "metadata": {},
   "outputs": [
    {
     "data": {
      "text/plain": [
       "(42000, 785)"
      ]
     },
     "execution_count": 61,
     "metadata": {},
     "output_type": "execute_result"
    }
   ],
   "source": [
    "m, n= ds.shape\n"
   ]
  },
  {
   "cell_type": "code",
   "execution_count": 62,
   "id": "4d3b1762-845a-4f59-ad02-5c62e5418057",
   "metadata": {},
   "outputs": [
    {
     "data": {
      "text/plain": [
       "(42000, 785)"
      ]
     },
     "execution_count": 62,
     "metadata": {},
     "output_type": "execute_result"
    }
   ],
   "source": [
    "np.random.shuffle(ds)\n",
    "ds.shape"
   ]
  },
  {
   "cell_type": "markdown",
   "id": "917a7375-e946-40bd-a1c8-37d085a0d8dd",
   "metadata": {},
   "source": [
    "## *now spliting data into test and tarin*"
   ]
  },
  {
   "cell_type": "code",
   "execution_count": 63,
   "id": "b9360099-96b5-43bb-ad4c-0688b94d45ca",
   "metadata": {},
   "outputs": [],
   "source": [
    "test_data=ds[0:1000].T\n",
    "y_test=test_data[0]\n",
    "X_test=test_data[1:n]\n"
   ]
  },
  {
   "cell_type": "code",
   "execution_count": 68,
   "id": "901720f1-0dc6-40a5-888d-c7dc85ce2bc9",
   "metadata": {},
   "outputs": [
    {
     "data": {
      "text/plain": [
       "(1000,)"
      ]
     },
     "execution_count": 68,
     "metadata": {},
     "output_type": "execute_result"
    }
   ],
   "source": [
    "y_test.shape"
   ]
  },
  {
   "cell_type": "code",
   "execution_count": 65,
   "id": "3c9050e7-093f-4ae3-a0d2-abe6190e480a",
   "metadata": {},
   "outputs": [
    {
     "data": {
      "text/plain": [
       "array([9, 1, 8, 2, 4, 4, 7, 3, 4, 7, 3, 2, 4, 9, 1, 3, 4, 7, 3, 1, 4, 1,\n",
       "       7, 9, 0, 1, 7, 7, 7, 9, 8, 1, 2, 7, 2, 7, 8, 9, 1, 9, 2, 1, 5, 9,\n",
       "       4, 2, 3, 9, 1, 3, 5, 8, 0, 2, 1, 8, 1, 2, 1, 8, 8, 6, 5, 8, 4, 9,\n",
       "       4, 5, 0, 6, 8, 1, 7, 2, 9, 2, 5, 1, 6, 8, 1, 9, 8, 9, 2, 5, 0, 4,\n",
       "       9, 1, 6, 6, 4, 6, 3, 0, 5, 2, 6, 8, 7, 0, 3, 3, 4, 7, 7, 6, 6, 7,\n",
       "       2, 8, 3, 4, 6, 3, 9, 6, 1, 6, 5, 3, 1, 3, 0, 9, 6, 6, 3, 1, 6, 7,\n",
       "       3, 7, 2, 8, 3, 4, 6, 0, 3, 4, 3, 3, 4, 0, 0, 9, 3, 8, 7, 8, 8, 4,\n",
       "       9, 0, 7, 5, 0, 6, 7, 8, 5, 4, 0, 9, 0, 0, 7, 0, 7, 8, 4, 5, 1, 6,\n",
       "       8, 5, 1, 3, 9, 0, 7, 9, 2, 5, 5, 1, 4, 5, 7, 8, 0, 4, 1, 8, 9, 1,\n",
       "       0, 8, 6, 3, 6, 2, 2, 9, 9, 9, 4, 0, 7, 6, 4, 0, 3, 1, 7, 0, 6, 5,\n",
       "       4, 2, 0, 8, 9, 8, 1, 3, 7, 4, 2, 7, 8, 8, 2, 3, 8, 4, 3, 4, 4, 3,\n",
       "       5, 2, 2, 4, 5, 8, 3, 9, 8, 9, 8, 5, 6, 6, 9, 8, 4, 7, 4, 7, 1, 2,\n",
       "       3, 3, 5, 6, 4, 9, 9, 4, 7, 0, 2, 0, 7, 1, 6, 2, 6, 5, 0, 1, 7, 4,\n",
       "       1, 6, 4, 2, 3, 0, 9, 3, 9, 1, 3, 3, 8, 4, 9, 6, 3, 3, 6, 9, 1, 7,\n",
       "       5, 9, 6, 5, 6, 9, 7, 5, 5, 4, 7, 5, 0, 3, 3, 8, 5, 8, 1, 9, 4, 3,\n",
       "       8, 3, 0, 3, 8, 8, 2, 3, 2, 9, 3, 4, 9, 1, 0, 5, 2, 3, 3, 9, 6, 5,\n",
       "       8, 8, 4, 7, 8, 2, 5, 4, 2, 0, 8, 2, 7, 5, 7, 2, 1, 8, 1, 9, 9, 0,\n",
       "       4, 7, 9, 1, 9, 4, 8, 3, 6, 7, 2, 1, 7, 1, 3, 2, 6, 0, 1, 9, 7, 7,\n",
       "       2, 3, 6, 9, 9, 7, 9, 1, 3, 8, 6, 8, 4, 2, 4, 4, 8, 5, 5, 2, 5, 6,\n",
       "       3, 5, 2, 7, 6, 8, 8, 2, 7, 1, 8, 5, 2, 2, 8, 8, 4, 0, 9, 0, 9, 7,\n",
       "       9, 5, 9, 2, 2, 4, 3, 6, 6, 4, 3, 7, 7, 6, 2, 4, 8, 0, 9, 8, 2, 3,\n",
       "       7, 4, 2, 4, 9, 6, 5, 3, 8, 9, 0, 0, 6, 9, 6, 7, 5, 1, 2, 0, 6, 7,\n",
       "       1, 6, 6, 1, 8, 5, 3, 6, 6, 5, 5, 7, 4, 3, 1, 7, 5, 5, 0, 3, 8, 4,\n",
       "       2, 1, 6, 1, 6, 0, 4, 9, 0, 1, 7, 6, 8, 4, 3, 3, 0, 3, 8, 0, 6, 4,\n",
       "       3, 4, 6, 0, 4, 3, 4, 1, 8, 7, 4, 3, 8, 3, 4, 5, 7, 9, 6, 7, 6, 1,\n",
       "       9, 9, 8, 7, 0, 7, 3, 6, 6, 9, 9, 3, 3, 5, 3, 0, 9, 2, 7, 1, 6, 9,\n",
       "       3, 6, 8, 8, 3, 1, 7, 9, 7, 6, 5, 1, 3, 7, 9, 6, 2, 2, 0, 2, 9, 8,\n",
       "       5, 3, 5, 2, 6, 9, 7, 2, 5, 5, 3, 4, 2, 3, 8, 3, 1, 5, 0, 4, 8, 3,\n",
       "       3, 7, 1, 4, 2, 7, 0, 2, 2, 6, 7, 5, 6, 9, 8, 9, 7, 4, 4, 3, 2, 4,\n",
       "       9, 1, 6, 0, 0, 1, 3, 3, 9, 4, 6, 0, 4, 4, 9, 7, 6, 8, 7, 5, 7, 0,\n",
       "       7, 6, 6, 0, 7, 3, 9, 4, 8, 4, 6, 6, 9, 1, 4, 8, 2, 9, 0, 4, 0, 2,\n",
       "       8, 8, 5, 7, 1, 4, 8, 0, 6, 8, 2, 8, 5, 0, 8, 2, 7, 3, 0, 6, 3, 9,\n",
       "       1, 1, 5, 3, 2, 9, 6, 8, 6, 0, 2, 4, 9, 1, 2, 1, 8, 5, 6, 1, 8, 1,\n",
       "       4, 2, 9, 2, 1, 6, 6, 2, 3, 3, 3, 5, 2, 2, 0, 4, 3, 7, 3, 1, 2, 2,\n",
       "       9, 9, 2, 3, 0, 1, 1, 8, 1, 6, 3, 2, 0, 0, 4, 7, 0, 9, 4, 9, 6, 0,\n",
       "       7, 7, 3, 2, 7, 5, 2, 7, 3, 8, 4, 1, 4, 1, 7, 4, 7, 7, 9, 7, 0, 0,\n",
       "       9, 9, 8, 8, 1, 7, 3, 0, 4, 2, 8, 6, 9, 2, 6, 5, 8, 2, 3, 8, 8, 6,\n",
       "       7, 7, 9, 9, 6, 8, 3, 4, 3, 0, 5, 2, 1, 7, 3, 8, 5, 0, 5, 7, 2, 2,\n",
       "       3, 0, 5, 9, 1, 5, 7, 5, 8, 0, 5, 0, 2, 0, 8, 7, 3, 4, 5, 6, 6, 7,\n",
       "       2, 0, 3, 5, 5, 4, 4, 6, 3, 3, 7, 8, 6, 2, 2, 2, 3, 9, 5, 0, 0, 1,\n",
       "       8, 2, 9, 4, 8, 7, 3, 2, 2, 8, 7, 9, 7, 5, 3, 8, 8, 7, 7, 3, 7, 9,\n",
       "       4, 1, 0, 0, 9, 0, 5, 7, 3, 8, 2, 0, 2, 3, 9, 4, 5, 3, 2, 5, 2, 0,\n",
       "       8, 2, 5, 3, 7, 7, 4, 4, 9, 9, 8, 4, 2, 5, 6, 9, 4, 8, 1, 8, 2, 7,\n",
       "       0, 8, 1, 6, 5, 6, 6, 2, 9, 6, 1, 0, 1, 5, 5, 8, 8, 0, 1, 1, 7, 9,\n",
       "       8, 9, 4, 9, 6, 8, 9, 1, 2, 5, 9, 0, 6, 7, 9, 2, 9, 6, 4, 8, 0, 8,\n",
       "       1, 5, 3, 7, 2, 5, 2, 9, 3, 8], dtype=int64)"
      ]
     },
     "execution_count": 65,
     "metadata": {},
     "output_type": "execute_result"
    }
   ],
   "source": [
    "y_test"
   ]
  },
  {
   "cell_type": "code",
   "execution_count": 66,
   "id": "2b819384-898b-478f-a3b9-7ea2792d9991",
   "metadata": {},
   "outputs": [
    {
     "data": {
      "text/plain": [
       "(41000,)"
      ]
     },
     "execution_count": 66,
     "metadata": {},
     "output_type": "execute_result"
    }
   ],
   "source": [
    "train_data=ds[1000:m].T\n",
    "y_train=train_data[0]\n",
    "X_train=train_data[1:n]\n",
    "y_train.shape\n"
   ]
  },
  {
   "cell_type": "code",
   "execution_count": 70,
   "id": "94fd6755-1dc1-4836-aae1-048037e0836f",
   "metadata": {},
   "outputs": [
    {
     "data": {
      "text/plain": [
       "(784,)"
      ]
     },
     "execution_count": 70,
     "metadata": {},
     "output_type": "execute_result"
    }
   ],
   "source": [
    "X_train[:,0].shape"
   ]
  },
  {
   "cell_type": "code",
   "execution_count": null,
   "id": "e5cc3511-cc83-44e7-b532-9deba2ef152d",
   "metadata": {},
   "outputs": [],
   "source": [
    "def init_params():\n",
    "    w1=np.random.randn(10,784)-0.5\n",
    "    b1=np.random.randn(10,1)-0.5\n",
    "    w2=np.random.randn(10,10)-0.5\n",
    "    b2=np.random.randn(10,1)-0.5"
   ]
  }
 ],
 "metadata": {
  "kernelspec": {
   "display_name": "venv1",
   "language": "python",
   "name": "venv1"
  },
  "language_info": {
   "codemirror_mode": {
    "name": "ipython",
    "version": 3
   },
   "file_extension": ".py",
   "mimetype": "text/x-python",
   "name": "python",
   "nbconvert_exporter": "python",
   "pygments_lexer": "ipython3",
   "version": "3.12.1"
  }
 },
 "nbformat": 4,
 "nbformat_minor": 5
}
